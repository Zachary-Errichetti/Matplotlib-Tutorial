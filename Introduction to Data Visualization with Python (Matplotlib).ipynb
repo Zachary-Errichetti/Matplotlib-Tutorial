{
 "cells": [
  {
   "cell_type": "markdown",
   "metadata": {},
   "source": [
    "# Introduction to Data Vizualization with Python (Matplotlib)"
   ]
  },
  {
   "cell_type": "markdown",
   "metadata": {},
   "source": [
    "### [Intro](#Goal:-Learn-the-basics-of-Data-Visualization-with-Python-(Matplotlib))\n",
    "### [Part 1: Basic Syntax](#Part-1:-Basic-Syntax)\n",
    "### [Part 2: Create a Chart](#Part-2:-Create-a-chart)\n",
    "### [Part 3: Add Multiple Charts](#Part-3:-Add-Multiple-Charts)\n",
    "### [Part 4: Formatting & Aesthetics](#Part-4:-Formatting-&-AESTHETICS)\n",
    "### [Part 5: Exporting](#Part-5:-Contact-&-Feedback)\n"
   ]
  },
  {
   "cell_type": "markdown",
   "metadata": {},
   "source": [
    "-----\n",
    "<br>"
   ]
  },
  {
   "cell_type": "markdown",
   "metadata": {},
   "source": [
    "### Goal: Learn the basics of Data Visualization with Python (Matplotlib)\n",
    "Python can be a powerful and flexible tool for creating Data Visualizations. It can also be an exercise in frustration and confusing to get started. This Notebook is designed to introduce core concempts used for creating charts and graphs in Python, and to explor common usecases."
   ]
  },
  {
   "cell_type": "code",
   "execution_count": null,
   "metadata": {},
   "outputs": [],
   "source": [
    "### Basic Imports ###\n",
    "import pandas as pd\n",
    "import matplotlib.pyplot as plt"
   ]
  },
  {
   "cell_type": "markdown",
   "metadata": {},
   "source": [
    "Matplotlib (the Python library covered in this notebook) is efficient, scalabel, and customizable. but it can be confusing at first, and may not be the iht tool for every usecase.\n",
    "<br> <br>\n",
    "It may be a good idea to use Python when...\n",
    "> - you are running an analysis in Python on a REGULAR basis\n",
    "> - You can save time by AUTOMATING the creation of Data Vizualizations\n",
    "> - You believe a vizualization (chart, graph) can reinforce your argument/analysis\n",
    "\n",
    "\n",
    "It may NOT be a good idea to use Python when...\n",
    "> - You are completing a \"one-off\" analysis (not done on a regular basis)\n",
    "> - You are crafting something on a tight deadline\n",
    "> - A process for creating vizuals is already in place, and you won't save time by recreating in Python"
   ]
  },
  {
   "cell_type": "markdown",
   "metadata": {},
   "source": [
    "Quick Example"
   ]
  },
  {
   "cell_type": "code",
   "execution_count": null,
   "metadata": {},
   "outputs": [],
   "source": [
    "df = pd.read_csv(r'usedcars.csv')\n",
    "\n",
    "x_values_list = df[''].value_counts().index\n",
    "y_values_list = df[''].value_counts()\n",
    "\n",
    "df.sample(3)"
   ]
  },
  {
   "cell_type": "code",
   "execution_count": null,
   "metadata": {},
   "outputs": [],
   "source": [
    "fig, ax = plt.subplots()   ### Create Figure and Axes\n",
    "\n",
    "ax.bar(x_values_list,\n",
    "      y_values_list,\n",
    "      color = 'green'\n",
    "      )\n",
    "\n",
    "ax.set_title('Number of Cars by Year')\n",
    "\n",
    "plt.show()   ### Display"
   ]
  },
  {
   "cell_type": "markdown",
   "metadata": {},
   "source": [
    "<br><br><br>\n",
    "-----\n",
    "# Part 1: Basic Syntax"
   ]
  },
  {
   "cell_type": "markdown",
   "metadata": {},
   "source": [
    "To start, its important to understand the concepts/terms used with Matplotlib\n",
    "> - figure: A blank \"canvas\" that you create graphs on\n",
    "> - AxesL your actual chart(s)\n",
    "\n",
    "One figure can contain many Axes. Think of this as \"one page\" or \"one slide\" in a powerpoint deck. You can fit multiple \"charts\" side-by-side on that page/slide\n",
    "\n",
    "> - Subplot: Basically the same as an Axes (\"Axes\" = \"Subplots\" = \"Charts\")\n",
    "> - X Axis: The horizontal (left/right) frame of your chart\n",
    "> - Y Axis: The verticle (up/down) frame of your chart\n",
    "> - Spine: Almost the same as the X/Y axis, but it refers to the graph's \"box edge\" - for example, you can hide the spine so it doesn't show... but things are still plotted along the axis (still plotted where the spine would show).\n",
    "> - Major/Minor Ticks: These are the little marks on the edge of a graph or on a grid that tell you what number/value you are looking at. You can define what values are \"major\" or \"minor\" (i.e. Major ticks would be whole numbers (0, 1, 2, 3, 4), and minor ticks would be partway between the whole numbers (.5, 1.5, 2.5, 3.5) ).\n",
    "\n",
    "Some basic functions:\n",
    "> - fig, ax = plt.subplots(): This is commonly used at the START of creating a chart. It makes a blank figure and a blank chart. We'll dissect this more in a bit\n",
    "> - plt.show(): Essentially a \"print\" statement. You can create a chart and define how it looks, but it won't display until you run plt.show()\n",
    "> - ax.set_title: Set a title on th especific Axes/Subplot\n",
    "fig.suptitle(): Puts a title on the entire figure (above the axes/subplots)\n",
    "\n",
    "and some common chart types:\n",
    "> - Bar Chart: ax.bar())\n",
    "> - Horiziontal Bar Chart: ax.barh()\n",
    "> - Line Chart: ax.plot()\n",
    "> - Stacked Line Chart: ax.stackplot()\n",
    "> - Histogram: ax.hist()\n",
    "> - Scatter Plot: ax.scatter()\n",
    "> - Pie Chart: ax.pie()\n",
    "\n"
   ]
  },
  {
   "cell_type": "code",
   "execution_count": null,
   "metadata": {},
   "outputs": [],
   "source": []
  },
  {
   "cell_type": "code",
   "execution_count": null,
   "metadata": {},
   "outputs": [],
   "source": []
  },
  {
   "cell_type": "markdown",
   "metadata": {},
   "source": [
    "<br><br><br>\n",
    "-----\n",
    "# Part 2: Create a Chart"
   ]
  },
  {
   "cell_type": "markdown",
   "metadata": {},
   "source": [
    "To CREATE a chart:\n",
    "<br>\n",
    "1. Create the Figure and the Axes\n",
    "2. Fill in the Data\n",
    "3. Tell it to \"Display\""
   ]
  },
  {
   "cell_type": "code",
   "execution_count": 1,
   "metadata": {},
   "outputs": [
    {
     "ename": "NameError",
     "evalue": "name 'plt' is not defined",
     "output_type": "error",
     "traceback": [
      "\u001b[0;31m---------------------------------------------------------------------------\u001b[0m",
      "\u001b[0;31mNameError\u001b[0m                                 Traceback (most recent call last)",
      "\u001b[0;32m<ipython-input-1-18486f083d8c>\u001b[0m in \u001b[0;36m<module>\u001b[0;34m\u001b[0m\n\u001b[0;32m----> 1\u001b[0;31m \u001b[0mfig\u001b[0m\u001b[0;34m,\u001b[0m \u001b[0max\u001b[0m \u001b[0;34m=\u001b[0m \u001b[0mplt\u001b[0m\u001b[0;34m.\u001b[0m\u001b[0msubplots\u001b[0m\u001b[0;34m(\u001b[0m\u001b[0;34m)\u001b[0m\u001b[0;34m\u001b[0m\u001b[0;34m\u001b[0m\u001b[0m\n\u001b[0m",
      "\u001b[0;31mNameError\u001b[0m: name 'plt' is not defined"
     ]
    }
   ],
   "source": [
    "fig, ax = plt.subplots()"
   ]
  },
  {
   "cell_type": "markdown",
   "metadata": {},
   "source": [
    "The Common way to start is \"fig, ax = plt.subplots()\". This creates the Blank Figure, and Blank Chart(s).\n",
    "\n",
    "Technically this is a short way to say:\n",
    "> fig = plt.figure() <br>\n",
    "> fig.add_subplot()\n",
    "\n",
    "Which creates the figure and creates one axis on that figure. But really just focus on \"fig, ax = plt.subplots()\""
   ]
  },
  {
   "cell_type": "markdown",
   "metadata": {},
   "source": [
    "Now that we've created the Figure and Axis, we need to say what data we want to enter: <br>\n",
    "Typically , the chart functions ask you to enter an X Value(s) and a Y Value(s). You can enter specific values, or a list of values. <br><br> Here is an example of a Bar Chart:"
   ]
  },
  {
   "cell_type": "code",
   "execution_count": 2,
   "metadata": {},
   "outputs": [
    {
     "ename": "NameError",
     "evalue": "name 'plt' is not defined",
     "output_type": "error",
     "traceback": [
      "\u001b[0;31m---------------------------------------------------------------------------\u001b[0m",
      "\u001b[0;31mNameError\u001b[0m                                 Traceback (most recent call last)",
      "\u001b[0;32m<ipython-input-2-774ce8775341>\u001b[0m in \u001b[0;36m<module>\u001b[0;34m\u001b[0m\n\u001b[0;32m----> 1\u001b[0;31m \u001b[0mfig\u001b[0m\u001b[0;34m,\u001b[0m \u001b[0max\u001b[0m \u001b[0;34m=\u001b[0m \u001b[0mplt\u001b[0m\u001b[0;34m.\u001b[0m\u001b[0msubplots\u001b[0m\u001b[0;34m(\u001b[0m\u001b[0;34m)\u001b[0m\u001b[0;34m\u001b[0m\u001b[0;34m\u001b[0m\u001b[0m\n\u001b[0m\u001b[1;32m      2\u001b[0m \u001b[0;34m\u001b[0m\u001b[0m\n\u001b[1;32m      3\u001b[0m \u001b[0mx_values\u001b[0m \u001b[0;34m=\u001b[0m \u001b[0;34m[\u001b[0m\u001b[0;34m'Jack'\u001b[0m\u001b[0;34m,\u001b[0m \u001b[0;34m'Kate'\u001b[0m\u001b[0;34m,\u001b[0m \u001b[0;34m'Locke'\u001b[0m\u001b[0;34m,\u001b[0m \u001b[0;34m'Sawyer'\u001b[0m\u001b[0;34m,\u001b[0m \u001b[0;34m'Hugo'\u001b[0m\u001b[0;34m,\u001b[0m \u001b[0;34m'Charlie'\u001b[0m\u001b[0;34m]\u001b[0m\u001b[0;34m\u001b[0m\u001b[0;34m\u001b[0m\u001b[0m\n\u001b[1;32m      4\u001b[0m \u001b[0my_values\u001b[0m \u001b[0;34m=\u001b[0m \u001b[0;34m[\u001b[0m\u001b[0;36m4\u001b[0m\u001b[0;34m,\u001b[0m \u001b[0;36m8\u001b[0m\u001b[0;34m,\u001b[0m \u001b[0;36m15\u001b[0m\u001b[0;34m,\u001b[0m \u001b[0;36m16\u001b[0m\u001b[0;34m,\u001b[0m \u001b[0;36m23\u001b[0m\u001b[0;34m,\u001b[0m \u001b[0;36m42\u001b[0m\u001b[0;34m]\u001b[0m\u001b[0;34m\u001b[0m\u001b[0;34m\u001b[0m\u001b[0m\n\u001b[1;32m      5\u001b[0m \u001b[0;34m\u001b[0m\u001b[0m\n",
      "\u001b[0;31mNameError\u001b[0m: name 'plt' is not defined"
     ]
    }
   ],
   "source": [
    "fig, ax = plt.subplots()\n",
    "\n",
    "x_values = ['Jack', 'Kate', 'Locke', 'Sawyer', 'Hugo', 'Charlie']\n",
    "y_values = [4, 8, 15, 16, 23, 42]\n",
    "\n",
    "ax.bar(x_values,\n",
    "      y_values\n",
    "      )\n",
    "\n",
    "plt.show()"
   ]
  },
  {
   "cell_type": "markdown",
   "metadata": {},
   "source": [
    "And here is an example of a Line Chart:"
   ]
  },
  {
   "cell_type": "code",
   "execution_count": null,
   "metadata": {},
   "outputs": [],
   "source": [
    "fig, ax = plt.subplots()\n",
    "\n",
    "x_values = ['Jack', 'Kate', 'Locke', 'Sawyer', 'Hugo', 'Charlie']\n",
    "y_values = [4, 8, 15, 16, 23, 42]\n",
    "\n",
    "ax.plot(x_values,\n",
    "        y_values\n",
    "      )\n",
    "\n",
    "plt.show()"
   ]
  },
  {
   "cell_type": "markdown",
   "metadata": {},
   "source": [
    "If we wanted to add multiple lines on one plot, we just need to \"plot\" more than one line, before we plt.show()"
   ]
  },
  {
   "cell_type": "code",
   "execution_count": null,
   "metadata": {},
   "outputs": [],
   "source": [
    "fig, ax = plt.subplots()\n",
    "\n",
    "x_values = ['Jack', 'Kate', 'Locke', 'Sawyer', 'Hugo', 'Charlie']\n",
    "y_values = [4, 8, 15, 16, 23, 42]\n",
    "y_values_2 = [42, 23, 16, 15, 8, 4]\n",
    "\n",
    "\n",
    "ax.plot(x_values,\n",
    "       y_values,\n",
    "       color = 'green',   ### Color lets you specify the color of the line\n",
    "       label = 'Example 1'   ### The labels will be shown in a legend, along with the color\n",
    "      )\n",
    "\n",
    "ax.plot(x_values,\n",
    "        y_values_2,\n",
    "        color = 'red',\n",
    "        label = 'Example 2'\n",
    "      )\n",
    "\n",
    "plt.legend (loc = 'upper center')\n",
    "\n",
    "plt.show()"
   ]
  },
  {
   "cell_type": "markdown",
   "metadata": {},
   "source": [
    "Specific charts may require slightly different inputs -- Remeber to check the documentation or search online for help when running into errors!"
   ]
  },
  {
   "cell_type": "code",
   "execution_count": null,
   "metadata": {},
   "outputs": [],
   "source": [
    "fig, ax = plt.subplots()\n",
    "\n",
    "x_values = ['Jack', 'Kate', 'Locke', 'Sawyer', 'Hugo', 'Charlie']\n",
    "y_values = [4, 8, 15, 16, 23, 42]\n",
    "\n",
    "ax.pie(y_values,\n",
    "       labels = x_values\n",
    "      )\n",
    "\n",
    "plt.show()"
   ]
  },
  {
   "cell_type": "markdown",
   "metadata": {},
   "source": [
    "Regardless of the chart type, you can see above the 3 step process\n",
    "1. Create the Figure and the Axes with fig, ax = plt.subplots()\n",
    "2. Fill in the data with X and Y values\n",
    "3. And tell it to \"Display\" with plt.show()\n",
    "\n",
    "Let's look at a practical example using the example \"Used Cars\" dataset:"
   ]
  },
  {
   "cell_type": "code",
   "execution_count": null,
   "metadata": {},
   "outputs": [],
   "source": [
    "df = pd.read_csv(r'usedcars.csv')\n",
    "df.head(3)"
   ]
  },
  {
   "cell_type": "markdown",
   "metadata": {},
   "source": [
    "We are going to take advantage of the \"Value_Counts()\" function to create our X and Y value lists. Value_Counts() will tell us the number of unqiue values:"
   ]
  },
  {
   "cell_type": "code",
   "execution_count": null,
   "metadata": {},
   "outputs": [],
   "source": [
    "df[''].value_counts()"
   ]
  },
  {
   "cell_type": "markdown",
   "metadata": {},
   "source": [
    "Let's take the \"Left Column\" as our X Values, and the numbers on the right as out Y Values:"
   ]
  },
  {
   "cell_type": "code",
   "execution_count": null,
   "metadata": {},
   "outputs": [],
   "source": [
    "x_values_list = df[''].value_counts(sort=False).index.tolist()\n",
    "y_values_list = df[''].value_counts(sort=False).tolist()"
   ]
  },
  {
   "cell_type": "markdown",
   "metadata": {},
   "source": [
    "And put them into a chart"
   ]
  },
  {
   "cell_type": "code",
   "execution_count": null,
   "metadata": {},
   "outputs": [],
   "source": [
    "fig, ax = plt.subplots()\n",
    "\n",
    "x_values_list = df[''].value_counts(sort=False).index.tolist()\n",
    "y_values_list = df[''].value_counts(sort=False).tolist()\n",
    "\n",
    "ax.bar(x_values,\n",
    "       y_values,\n",
    "       color = 'green'\n",
    "      )\n",
    "\n",
    "ax.set_title('Count of Cars by Year')   ### This sets up a title above your specific Axes/Subplots\n",
    "\n",
    "plt.show()"
   ]
  },
  {
   "cell_type": "code",
   "execution_count": null,
   "metadata": {},
   "outputs": [],
   "source": [
    "fig, ax = plt.subplots()\n",
    "\n",
    "x_values_list = df.groupby('')[''].mean().index.tolist()\n",
    "y_values_list = df.groupby('')[''].mean().tolist()\n",
    "\n",
    "ax.plot(x_values,\n",
    "       y_values,\n",
    "      )\n",
    "\n",
    "ax.set_title('')\n",
    "\n",
    "plt.show()"
   ]
  },
  {
   "cell_type": "markdown",
   "metadata": {},
   "source": [
    "One final note on the charts above - we've added specific colors and titles to the charts. <br> <br>\n",
    "As mentioned, thank of the process as creating the figure/axis, filling in data (numbers, labels, colors), then adding additional things on the chart (titles and labels). You can check the documentation for a full list of possible attributes.<br><br> We will discuss formatting shortly (section 4), but to illustrate the 3 part process:"
   ]
  },
  {
   "cell_type": "code",
   "execution_count": null,
   "metadata": {},
   "outputs": [],
   "source": [
    "fig, ax = plt.subplots()\n",
    "\n",
    "x_values_list = df[''].value_counts(sort=False).index.tolist()\n",
    "y_values_list = df[''].value_counts(sort=False).tolist()\n",
    "\n",
    "ax.bar(x_values,\n",
    "       y_values,\n",
    "       color = 'orange',   ### Color of the chart\n",
    "       edgecolor = 'blue',   ### Outline color of the bar\n",
    "       label = '# of THING',   ### Used for a legend label\n",
    "       linewidth = 5,   ### Thickness of bar outline\n",
    "       alpha = .8,   ### Transparency\n",
    "       zorder = 2   ### Used to set items on top/underneath one another. In this case, the chart is on top of the grid\n",
    "      )\n",
    "\n",
    "ax.set_title('TITLE')\n",
    "\n",
    "ax.grid(linestyle = '-',   ###\n",
    "        which = 'major',   ### Add lines on the Major/Minor/Both values\n",
    "        axis = 'y',   ### Adds verticle/horizontal/both lines (specify the axis, or 'both')\n",
    "        alpha = .5,   ### Transparency\n",
    "        linewidth = .75,   ### Thickness of gridlines\n",
    "        color = 'black',   ### Color of the gridlines\n",
    "        zorder = 1   ### Used to set items on top/underneath one another. In this case, the grid is underneath the chart\n",
    "      )\n",
    "    \n",
    "ax.legend(loc = 'upper right')\n",
    "\n",
    "plt.show()"
   ]
  },
  {
   "cell_type": "code",
   "execution_count": null,
   "metadata": {},
   "outputs": [],
   "source": [
    "fig, ax = plt.subplots()\n",
    "\n",
    "x_values = ['Jack', 'Kate', 'Locke', 'Sawyer', 'Hugo', 'Charlie']\n",
    "y_values = [4, 8, 15, 16, 23, 42]\n",
    "y_values_2 = [42, 23, 16, 15, 8, 4]\n",
    "y_values_3 = [23, 4, 32, 16, 42, 8]\n",
    "\n",
    "\n",
    "ax.plt(x_values,\n",
    "       y_values,\n",
    "       color = 'green',   ### Color of the chart\n",
    "       label = 'Example 1',   ### Used for a legend label\n",
    "       linewidth = 4,   ### Thickness of bar outline\n",
    "      )\n",
    "\n",
    "ax.plt(x_values,\n",
    "       y_values_2,\n",
    "       color = 'magenta',   \n",
    "       label = 'Example 2',\n",
    "       linestyle = 'dashed'   ### How the line is drawn: \"-----\"\n",
    "      )\n",
    "\n",
    "ax.plt(x_values,\n",
    "       y_values_3,\n",
    "       color = 'yellow',   \n",
    "       label = 'Example 3',\n",
    "       marker = 'o',   ### The 'Data Point' where the line meets the gridlines\n",
    "       markersize = 12   ### Size of the \"Data Point\"\n",
    "      )\n",
    "\n",
    "ax.spines['top'].set_visible(False)   ### Spines are the 'main square/lines' of a subplot. You can select certain ones \"off\"\n",
    "ax.spines['right'].set_visible(False)\n",
    "ax.spines['left'].set_visible(False)\n",
    "\n",
    "ax.grid(linestyle = '-',   ###\n",
    "        which = 'major',   ### Add lines on the Major/Minor/Both values\n",
    "        axis = 'x',   ### Adds verticle/horizontal/both lines (specify the axis, or 'both')\n",
    "        alpha = .5,   ### Transparency\n",
    "        linewidth = .5,   ### Thickness of gridlines\n",
    "        color = 'red',   ### Color of the gridlines\n",
    "      )\n",
    "    \n",
    "ax.legend(loc = 'upper center')\n",
    "\n",
    "plt.show()"
   ]
  },
  {
   "cell_type": "markdown",
   "metadata": {},
   "source": [
    "<br><br><br>\n",
    "-----\n",
    "# Part 3: "
   ]
  },
  {
   "cell_type": "markdown",
   "metadata": {},
   "source": [
    "So far we've been working with ONE figure, and ONE subplot (one axes, or one chart). But if we want to place multiple charts onto one figure, we need to update our syntax."
   ]
  },
  {
   "cell_type": "code",
   "execution_count": 3,
   "metadata": {},
   "outputs": [
    {
     "ename": "NameError",
     "evalue": "name 'plt' is not defined",
     "output_type": "error",
     "traceback": [
      "\u001b[0;31m---------------------------------------------------------------------------\u001b[0m",
      "\u001b[0;31mNameError\u001b[0m                                 Traceback (most recent call last)",
      "\u001b[0;32m<ipython-input-3-d14f49eb3baa>\u001b[0m in \u001b[0;36m<module>\u001b[0;34m\u001b[0m\n\u001b[0;32m----> 1\u001b[0;31m \u001b[0mfig\u001b[0m\u001b[0;34m,\u001b[0m \u001b[0max\u001b[0m \u001b[0;34m=\u001b[0m \u001b[0mplt\u001b[0m\u001b[0;34m.\u001b[0m\u001b[0msubplots\u001b[0m\u001b[0;34m(\u001b[0m\u001b[0;36m2\u001b[0m\u001b[0;34m,\u001b[0m\u001b[0;36m1\u001b[0m\u001b[0;34m)\u001b[0m\u001b[0;34m\u001b[0m\u001b[0;34m\u001b[0m\u001b[0m\n\u001b[0m",
      "\u001b[0;31mNameError\u001b[0m: name 'plt' is not defined"
     ]
    }
   ],
   "source": [
    "fig, ax = plt.subplots(2,1)"
   ]
  },
  {
   "cell_type": "markdown",
   "metadata": {},
   "source": [
    "plt.subplots() lets you specify the number of rows and the number of columns <br><br> And to add charts, we need to specigy which subplot we are working with. Python uses zero-based indexing. That means the first item is [0], the second is [1], and so forth."
   ]
  },
  {
   "cell_type": "code",
   "execution_count": null,
   "metadata": {},
   "outputs": [],
   "source": [
    "fig, ax = plt.subplots(2, 1)\n",
    "\n",
    "x_values = ['Britta', 'Troy', 'Annie', 'Abed', 'Jeff', 'Shirley', 'Pierce']\n",
    "y_values = [28, 21, 20, 22, 34, 35, 60]\n",
    "\n",
    "ax[0].bar(x_values,\n",
    "          y_values,\n",
    "          color = 'blue'\n",
    "         )\n",
    "\n",
    "ax[1].bar(x_values,\n",
    "          y_values,\n",
    "          color = 'green'\n",
    "         )\n",
    "\n",
    "plt.show()"
   ]
  },
  {
   "cell_type": "markdown",
   "metadata": {},
   "source": [
    "You can think of it like creating a grid, with each square in that grid being a different chart <br> So a 2x2 grid creates 4 squares, which is 4 charts:"
   ]
  },
  {
   "cell_type": "code",
   "execution_count": null,
   "metadata": {},
   "outputs": [],
   "source": [
    "fig, ax = plt.subplots(2,2)"
   ]
  },
  {
   "cell_type": "markdown",
   "metadata": {},
   "source": [
    "From here the syntax is the same -- EXCEPT you need to specify which square you're working in:\n",
    "> Top Left = ax[0,0] <br>\n",
    "> Top Right = ax[0,1] <br>\n",
    "> Bottom Left = ax[1,0] <br>\n",
    "> Bottom Left = ax[1,1] \n",
    "\n",
    "Again, zero-based indexing means the first item is [0], the second is [1], and so forth. so the FIRST row, SECOND column is [0,1]"
   ]
  },
  {
   "cell_type": "code",
   "execution_count": null,
   "metadata": {},
   "outputs": [],
   "source": [
    "fig, ax = plt.subplots(2, 1)\n",
    "fig.set_size_inches(12, 6)   ### There are a variety of ways to \"change the size\" of the plot/figure. Ignore this for now\n",
    "\n",
    "x_values = ['Britta', 'Troy', 'Annie', 'Abed', 'Jeff', 'Shirley', 'Pierce']\n",
    "y_values = [28, 21, 20, 22, 34, 35, 60]\n",
    "\n",
    "##############\n",
    "ax[0,0].axis('off')   ### Hides all the axes edges\n",
    "##############\n",
    "\n",
    "\n",
    "##############\n",
    "ax[0,1].bar(x_values,\n",
    "            y_values,\n",
    "            color = 'blue'\n",
    "           )\n",
    "ax[0,1].set_title('Top Right Subplot')\n",
    "##############\n",
    "\n",
    "\n",
    "##############\n",
    "ax[1,0].barh(x_values,\n",
    "             y_values,\n",
    "             color = 'green'\n",
    "           )\n",
    "ax[1,0].spines['right'].set_visible(False)   \n",
    "ax[1,0].invert_yaxis()   ### Reverses theorder of the Y values\n",
    "ax[1,0].set_title('Bottom Left Subplot')  \n",
    "##############\n",
    "\n",
    "\n",
    "##############\n",
    "ax[1,1].text(0,   ### The Left/Right location, 0 is the START/LEFT and 1 is the END/RIGHT\n",
    "             .5,   ### The Up/Down location, 0 is the TOP and 1 is the BOTTOM\n",
    "            'You can put a text box into a subplot!',\n",
    "             fontsize = 14\n",
    "            )\n",
    "##############\n",
    "\n",
    "\n",
    "plt.show()"
   ]
  },
  {
   "cell_type": "markdown",
   "metadata": {},
   "source": [
    "Sometimes when you want to change something, you need to do it on the \"Figure\" level, and sometimes you need to do it to the \"Axes\""
   ]
  },
  {
   "cell_type": "code",
   "execution_count": null,
   "metadata": {},
   "outputs": [],
   "source": [
    "fig, ax = plt.subplots(2, 1)\n",
    "\n",
    "x_values = ['Britta', 'Troy', 'Annie', 'Abed', 'Jeff', 'Shirley', 'Pierce']\n",
    "y_values = [28, 21, 20, 22, 34, 35, 60]\n",
    "\n",
    "ax[0].bar(x_values, y_values)\n",
    "ax[0].set_title('First/Left Side Chart')\n",
    "\n",
    "\n",
    "ax[1].bar(x_values, y_values)\n",
    "ax[1].set_title('Second/Right Side')  \n",
    "\n",
    "fig.suptitle('This is a FIGURE Title', fontsize = 24)\n",
    "\n",
    "\n",
    "plt.show()"
   ]
  },
  {
   "cell_type": "markdown",
   "metadata": {},
   "source": [
    "You can often perform the same actions by adjusting the FIGURE or by adjusting the SUBPLOTS -- but this can also cause a lot of confusion\n",
    "> plt.ticks(rotation = 45) <br>\n",
    "> ax.set_xticklabels(x_values, rotation = 45)\n",
    "\n",
    "It is important to pay attention to what you want to adjust, and how you are trying to do it. If you mix/match these methods, you may end up with unexpected results!"
   ]
  },
  {
   "cell_type": "code",
   "execution_count": null,
   "metadata": {},
   "outputs": [],
   "source": []
  },
  {
   "cell_type": "code",
   "execution_count": null,
   "metadata": {},
   "outputs": [],
   "source": []
  },
  {
   "cell_type": "markdown",
   "metadata": {},
   "source": [
    "<br><br><br>\n",
    "-----\n",
    "# Part 4: Formatting & AESTHETICS"
   ]
  },
  {
   "cell_type": "markdown",
   "metadata": {},
   "source": [
    "So far we've been making specific adjustments to the look and style of our charts. Wouldn't it be great if we can specify the look ONCE, and not have to worry about it again? <br> <br> WIth matplotlib, we can change the default global style using\"reParams\"\n",
    "> rc = \"runtime configuration\" <br>\n",
    "> Params = Parameter\n",
    "\n",
    "Each time Matplotlib loads, it defines a runtime configuration (rc) containing the default styles for every plot element you create. This configuration can be customized using \"plt.rcParams\""
   ]
  },
  {
   "cell_type": "code",
   "execution_count": null,
   "metadata": {},
   "outputs": [],
   "source": [
    "### Before ###\n",
    "fig, ax = plt.subplots()\n",
    "fig.set_size_inches(12, 6)\n",
    "\n",
    "x_values = ['Eddard \"Ned\" Stark', 'Jamie Lannister', 'Tyrion Lannister', 'Daenerys Targaryen', 'Jon Snow', 'Arya Stark']\n",
    "y_values = [15, 17, 49, 31, 42, 34]\n",
    "\n",
    "ax.bar(x_values, y_values)\n",
    "\n",
    "plt.show()"
   ]
  },
  {
   "cell_type": "code",
   "execution_count": null,
   "metadata": {},
   "outputs": [],
   "source": [
    "### You can find more items to customize in Matplotlib's Documentation: https://matplotlib.org/stable/tutorials/introductory/customizing.html\n",
    "### Or some options are available here: [(param ,value) for param, value in plt.rcParams.items() if 'color' in param]\n",
    "plt.rcParams['axes.facecolor'] = 'grey'\n",
    "plt.rcParams['axes.edgecolor'] = 'yellow'\n",
    "plt.rcParams['axes.linewidth'] = 4"
   ]
  },
  {
   "cell_type": "code",
   "execution_count": null,
   "metadata": {},
   "outputs": [],
   "source": [
    "### After ###\n",
    "fig, ax = plt.subplots()\n",
    "fig.set_size_inches(12, 6)\n",
    "\n",
    "x_values = ['Eddard \"Ned\" Stark', 'Jamie Lannister', 'Tyrion Lannister', 'Daenerys Targaryen', 'Jon Snow', 'Arya Stark']\n",
    "y_values = [15, 17, 49, 31, 42, 34]\n",
    "\n",
    "ax.bar(x_values,\n",
    "       y_values\n",
    "      )\n",
    "\n",
    "plt.show()"
   ]
  },
  {
   "cell_type": "markdown",
   "metadata": {},
   "source": [
    "Here's a cleaner example"
   ]
  },
  {
   "cell_type": "code",
   "execution_count": null,
   "metadata": {},
   "outputs": [],
   "source": [
    "plt.rcParams['figure.facecolor'] = 'black'\n",
    "plt.rcParams['figure.edgecolor'] = 'black'\n",
    "\n",
    "plt.rcParams['axes.facecolor'] = 'grey'\n",
    "plt.rcParams['axes.edgecolor'] = 'yellow'\n",
    "\n",
    "plt.rcParams['axes.linewidth'] = 2\n",
    "\n",
    "plt.rcParams['xtick.color'] = 'white'\n",
    "plt.rcParams['ytick.color'] = 'white'\n",
    "\n",
    "plt.rcParams['axes.spines.right'] = False\n",
    "plt.rcParams['axes.spines.top'] = False\n",
    "\n",
    "plt.rcParams['xtick.labelsize'] = 'smaller'"
   ]
  },
  {
   "cell_type": "code",
   "execution_count": null,
   "metadata": {},
   "outputs": [],
   "source": [
    "### After ###\n",
    "fig, ax = plt.subplots()\n",
    "fig.set_size_inches(12, 6)\n",
    "\n",
    "x_values = ['Eddard \"Ned\" Stark', 'Jamie Lannister', 'Tyrion Lannister', 'Daenerys Targaryen', 'Jon Snow', 'Arya Stark']\n",
    "y_values = [15, 17, 49, 31, 42, 34]\n",
    "\n",
    "ax.bar(x_values,\n",
    "       y_values\n",
    "      )\n",
    "\n",
    "plt.show()"
   ]
  },
  {
   "cell_type": "markdown",
   "metadata": {},
   "source": [
    "There are a variety of pre-set styles that you can import as well:"
   ]
  },
  {
   "cell_type": "code",
   "execution_count": null,
   "metadata": {},
   "outputs": [],
   "source": [
    "print(plt.style.available)"
   ]
  },
  {
   "cell_type": "code",
   "execution_count": null,
   "metadata": {},
   "outputs": [],
   "source": [
    "plt.style.use('fivethirtyeight')\n",
    "\n",
    "fig, ax = plt.subplots()\n",
    "fig.set_size_inches(12, 6)\n",
    "\n",
    "x_values = ['Eddard \"Ned\" Stark', 'Jamie Lannister', 'Tyrion Lannister', 'Daenerys Targaryen', 'Jon Snow', 'Arya Stark']\n",
    "y_values = [15, 17, 49, 31, 42, 34]\n",
    "\n",
    "ax.bar(x_values,\n",
    "       y_values\n",
    "      )\n",
    "\n",
    "plt.show()"
   ]
  },
  {
   "cell_type": "code",
   "execution_count": null,
   "metadata": {},
   "outputs": [],
   "source": [
    "plt.style.use('seaborn-deep')\n",
    "\n",
    "fig, ax = plt.subplots()\n",
    "fig.set_size_inches(12, 6)\n",
    "\n",
    "x_values = ['Eddard \"Ned\" Stark', 'Jamie Lannister', 'Tyrion Lannister', 'Daenerys Targaryen', 'Jon Snow', 'Arya Stark']\n",
    "y_values = [15, 17, 49, 31, 42, 34]\n",
    "\n",
    "ax.bar(x_values,\n",
    "       y_values\n",
    "      )\n",
    "\n",
    "plt.show()"
   ]
  },
  {
   "cell_type": "markdown",
   "metadata": {},
   "source": [
    "and return to default settings:"
   ]
  },
  {
   "cell_type": "code",
   "execution_count": null,
   "metadata": {},
   "outputs": [],
   "source": [
    "plt.style.use('default')"
   ]
  },
  {
   "cell_type": "markdown",
   "metadata": {},
   "source": [
    "<br><br><br>\n",
    "-----\n",
    "# Part 5: Exporting"
   ]
  },
  {
   "cell_type": "markdown",
   "metadata": {},
   "source": [
    "Now that you've put in a lot of work to make effective charts, let's finishe with how to share them!<br> We do this with the \"plt.savefig\" function, which will export the FIGURE (and all the subplots on that figure)"
   ]
  },
  {
   "cell_type": "markdown",
   "metadata": {},
   "source": [
    "Let's go back to a practical example using the used cars dataframe:"
   ]
  },
  {
   "cell_type": "code",
   "execution_count": 4,
   "metadata": {},
   "outputs": [
    {
     "ename": "NameError",
     "evalue": "name 'plt' is not defined",
     "output_type": "error",
     "traceback": [
      "\u001b[0;31m---------------------------------------------------------------------------\u001b[0m",
      "\u001b[0;31mNameError\u001b[0m                                 Traceback (most recent call last)",
      "\u001b[0;32m<ipython-input-4-066fe69a749f>\u001b[0m in \u001b[0;36m<module>\u001b[0;34m\u001b[0m\n\u001b[0;32m----> 1\u001b[0;31m \u001b[0mfig\u001b[0m\u001b[0;34m,\u001b[0m \u001b[0max\u001b[0m \u001b[0;34m=\u001b[0m \u001b[0mplt\u001b[0m\u001b[0;34m.\u001b[0m\u001b[0msubplots\u001b[0m\u001b[0;34m(\u001b[0m\u001b[0;34m)\u001b[0m\u001b[0;34m\u001b[0m\u001b[0;34m\u001b[0m\u001b[0m\n\u001b[0m\u001b[1;32m      2\u001b[0m \u001b[0mfig\u001b[0m\u001b[0;34m.\u001b[0m\u001b[0mset_size_inches\u001b[0m\u001b[0;34m(\u001b[0m\u001b[0;36m12\u001b[0m\u001b[0;34m,\u001b[0m \u001b[0;36m6\u001b[0m\u001b[0;34m)\u001b[0m\u001b[0;34m\u001b[0m\u001b[0;34m\u001b[0m\u001b[0m\n\u001b[1;32m      3\u001b[0m \u001b[0;34m\u001b[0m\u001b[0m\n\u001b[1;32m      4\u001b[0m \u001b[0mx_values_1\u001b[0m \u001b[0;34m=\u001b[0m \u001b[0mdf\u001b[0m\u001b[0;34m[\u001b[0m\u001b[0;34m'COLUMN'\u001b[0m\u001b[0;34m]\u001b[0m\u001b[0;34m.\u001b[0m\u001b[0mvalue_counts\u001b[0m\u001b[0;34m(\u001b[0m\u001b[0msort\u001b[0m\u001b[0;34m=\u001b[0m\u001b[0;32mFalse\u001b[0m\u001b[0;34m)\u001b[0m\u001b[0;34m.\u001b[0m\u001b[0mindex\u001b[0m\u001b[0;34m.\u001b[0m\u001b[0mtolist\u001b[0m\u001b[0;34m(\u001b[0m\u001b[0;34m)\u001b[0m   \u001b[0;31m### Values\u001b[0m\u001b[0;34m\u001b[0m\u001b[0;34m\u001b[0m\u001b[0m\n\u001b[1;32m      5\u001b[0m \u001b[0my_values_1\u001b[0m \u001b[0;34m=\u001b[0m \u001b[0mdf\u001b[0m\u001b[0;34m[\u001b[0m\u001b[0;34m'COLUMN'\u001b[0m\u001b[0;34m]\u001b[0m\u001b[0;34m.\u001b[0m\u001b[0mvalue_counts\u001b[0m\u001b[0;34m(\u001b[0m\u001b[0msort\u001b[0m\u001b[0;34m=\u001b[0m\u001b[0;32mFalse\u001b[0m\u001b[0;34m)\u001b[0m\u001b[0;34m.\u001b[0m\u001b[0mtolist\u001b[0m\u001b[0;34m(\u001b[0m\u001b[0;34m)\u001b[0m   \u001b[0;31m### Values\u001b[0m\u001b[0;34m\u001b[0m\u001b[0;34m\u001b[0m\u001b[0m\n",
      "\u001b[0;31mNameError\u001b[0m: name 'plt' is not defined"
     ]
    }
   ],
   "source": [
    "fig, ax = plt.subplots()\n",
    "fig.set_size_inches(12, 6)\n",
    "\n",
    "x_values_1 = df['COLUMN'].value_counts(sort=False).index.tolist()   ### Values\n",
    "y_values_1 = df['COLUMN'].value_counts(sort=False).tolist()   ### Values\n",
    "\n",
    "x_values_2 = df['COLUMN'].value_counts(sort=False).index.tolist()   ### Values\n",
    "y_values_2 = df['COLUMN'].value_counts(sort=False).tolist()   ### Values\n",
    "\n",
    "ax[0].bar(x_values_1, y_values_1)\n",
    "ax[0].set_title('First/Left Side Chart')\n",
    "\n",
    "ax[1].bar(x_values_2, y_values_2)\n",
    "ax[1].set_title('Second/Right Side Chart')\n",
    "\n",
    "### We could specify the X Axis in both subplots, OR we can loop through each axes in the figure, like this:\n",
    "for ax in fig.axes:\n",
    "    ax.tick_params(axis = 'x', labelrotation = 45 )\n",
    "#ax[0].set_xticklabels(x_values_1, rotation = 45)\n",
    "#ax[0].set_xticklabels(x_values_1, rotation = 45)\n",
    "\n",
    "### Similarly, we can do the same for data labels -- define the function\n",
    "def autolabel(rects, ax):\n",
    "    for rect in rects: ### get the hight of bars\n",
    "        x = rect.get_x() + rect.get_width()/2\n",
    "        y = rect/get_height()\n",
    "        ax.annotate(\"{}\".format(y), (x, y), xytext = (0,1), textcoords = \"offset points\", \n",
    "                    ha = 'center', va = 'bottom')   ### and add an annotation\n",
    "\n",
    "for ax in fig.axes:\n",
    "    autolabel(ax.patches, ax)\n",
    "    \n",
    "fig.suptitle('Title for the Figure',\n",
    "             fontsize = 24,\n",
    "             y = 1.05\n",
    "            )\n",
    "\n",
    "plt.tight_layout()   ### Sometimes the text or labels can get cutoff -- tight_layout will resize your figure/margins to keep everything \"in frame\"\n",
    "\n",
    "plt.savefig('exports\\example.png')\n",
    "plt.show()"
   ]
  },
  {
   "cell_type": "markdown",
   "metadata": {},
   "source": [
    "savefig lets you export the figure in a variety of formats (.png, .jpeg, or even PDF if you're making a report). <br> <br> You can also specify a specific folder or directory on your computer! Try this:"
   ]
  },
  {
   "cell_type": "code",
   "execution_count": null,
   "metadata": {},
   "outputs": [],
   "source": [
    "### Create a folder on your C:Drive for demo purposes\n",
    "from datetime import date\n",
    "import os\n",
    "\n",
    "today_date = date.today().strftime(\"%Y_%m_%d\")\n",
    "path = r'C:\\My Documents\\Matplotlib_Exports\\\\' + today_date\n",
    "\n",
    "if not os.path.exists(path):\n",
    "    os.makedirs(path)\n",
    "    print('Making Folder...')\n",
    "else:\n",
    "    print('Folder already exists!')"
   ]
  },
  {
   "cell_type": "code",
   "execution_count": null,
   "metadata": {},
   "outputs": [],
   "source": [
    "fig, ax = plt.subplots()\n",
    "fig.set_size_inches(12, 6)\n",
    "\n",
    "x_values_1 = df['COLUMN'].value_counts(sort=False).index.tolist()   ### Values\n",
    "y_values_1 = df['COLUMN'].value_counts(sort=False).tolist()   ### Values\n",
    "\n",
    "x_values_2 = df['COLUMN'].value_counts(sort=False).index.tolist()   ### Values\n",
    "y_values_2 = df['COLUMN'].value_counts(sort=False).tolist()   ### Values\n",
    "\n",
    "ax[0].bar(x_values_1, y_values_1)\n",
    "ax[0].set_title('First/Left Side Chart')\n",
    "\n",
    "ax[1].bar(x_values_2, y_values_2)\n",
    "ax[1].set_title('Second/Right Side Chart')\n",
    "\n",
    "for ax in fig.axes:\n",
    "    ax.tick_params(axis = 'x', labelrotation = 45 )\n",
    "\n",
    "    \n",
    "fig.suptitle('Title for the Figure',\n",
    "             fontsize = 24,\n",
    "             y = 1.05\n",
    "            )\n",
    "\n",
    "plt.tight_layout()   ### Sometimes the text or labels can get cutoff -- tight_layout will resize your figure/margins to keep everything \"in frame\"\n",
    "\n",
    "plt.savefig('C:\\My Documents\\Matplotlib_Exports\\\\' + today_date + '\\\\example_fig.pdf', bbox_inches = 'tight')   #### bbox_inches is similar to tight_layout, may fix things being cut off. However thing will adjust page size\n",
    "plt.show()"
   ]
  },
  {
   "cell_type": "code",
   "execution_count": null,
   "metadata": {},
   "outputs": [],
   "source": [
    "print('Yuge Win')"
   ]
  }
 ],
 "metadata": {
  "kernelspec": {
   "display_name": "Python 3",
   "language": "python",
   "name": "python3"
  },
  "language_info": {
   "codemirror_mode": {
    "name": "ipython",
    "version": 3
   },
   "file_extension": ".py",
   "mimetype": "text/x-python",
   "name": "python",
   "nbconvert_exporter": "python",
   "pygments_lexer": "ipython3",
   "version": "3.7.6"
  }
 },
 "nbformat": 4,
 "nbformat_minor": 4
}
